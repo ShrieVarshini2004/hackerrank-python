{
 "cells": [
  {
   "cell_type": "code",
   "execution_count": null,
   "id": "5dc2da8e-6c58-4a1b-8748-43e7abe0238e",
   "metadata": {},
   "outputs": [],
   "source": [
    "if __name__ == '__main__':\n",
    "    x = int(input())\n",
    "    y = int(input())\n",
    "    z = int(input())\n",
    "    n = int(input())\n",
    "\n",
    "    mylist = []\n",
    "    for i in range(x + 1): \n",
    "        for j in range(y + 1):  \n",
    "            for k in range(z + 1): \n",
    "                if i + j + k != n:\n",
    "                    mylist.append([i, j, k])  \n",
    "    print(mylist)\n"
   ]
  }
 ],
 "metadata": {
  "kernelspec": {
   "display_name": "Python 3 (ipykernel)",
   "language": "python",
   "name": "python3"
  },
  "language_info": {
   "codemirror_mode": {
    "name": "ipython",
    "version": 3
   },
   "file_extension": ".py",
   "mimetype": "text/x-python",
   "name": "python",
   "nbconvert_exporter": "python",
   "pygments_lexer": "ipython3",
   "version": "3.12.7"
  }
 },
 "nbformat": 4,
 "nbformat_minor": 5
}
